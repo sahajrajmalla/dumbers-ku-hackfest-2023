{
 "cells": [
  {
   "cell_type": "code",
   "execution_count": 2,
   "metadata": {},
   "outputs": [
    {
     "name": "stdout",
     "output_type": "stream",
     "text": [
      "\u001b[33mCache entry deserialization failed, entry ignored\u001b[0m\n",
      "Collecting pip\n",
      "  Using cached https://files.pythonhosted.org/packages/a4/6d/6463d49a933f547439d6b5b98b46af8742cc03ae83543e4d7688c2420f8b/pip-21.3.1-py3-none-any.whl\n",
      "Installing collected packages: pip\n",
      "\u001b[31mException:\n",
      "Traceback (most recent call last):\n",
      "  File \"/usr/lib/python3.6/site-packages/pip/basecommand.py\", line 215, in main\n",
      "    status = self.run(options, args)\n",
      "  File \"/usr/lib/python3.6/site-packages/pip/commands/install.py\", line 365, in run\n",
      "    strip_file_prefix=options.strip_file_prefix,\n",
      "  File \"/usr/lib/python3.6/site-packages/pip/req/req_set.py\", line 789, in install\n",
      "    **kwargs\n",
      "  File \"/usr/lib/python3.6/site-packages/pip/req/req_install.py\", line 854, in install\n",
      "    strip_file_prefix=strip_file_prefix\n",
      "  File \"/usr/lib/python3.6/site-packages/pip/req/req_install.py\", line 1069, in move_wheel_files\n",
      "    strip_file_prefix=strip_file_prefix,\n",
      "  File \"/usr/lib/python3.6/site-packages/pip/wheel.py\", line 345, in move_wheel_files\n",
      "    clobber(source, lib_dir, True)\n",
      "  File \"/usr/lib/python3.6/site-packages/pip/wheel.py\", line 287, in clobber\n",
      "    ensure_dir(dest)  # common for the 'include' path\n",
      "  File \"/usr/lib/python3.6/site-packages/pip/utils/__init__.py\", line 83, in ensure_dir\n",
      "    os.makedirs(path)\n",
      "  File \"/usr/lib64/python3.6/os.py\", line 210, in makedirs\n",
      "    makedirs(head, mode, exist_ok)\n",
      "  File \"/usr/lib64/python3.6/os.py\", line 220, in makedirs\n",
      "    mkdir(name, mode)\n",
      "PermissionError: [Errno 13] Permission denied: '/usr/local/lib/python3.6'\u001b[0m\n"
     ]
    }
   ],
   "source": [
    "!pip3 install --upgrade pip\n",
    "!pip3 install geopandas\n",
    "!pip3 install osmnx\n"
   ]
  },
  {
   "cell_type": "code",
   "execution_count": 3,
   "metadata": {},
   "outputs": [],
   "source": [
    "import osmnx as ox\n",
    "import geopandas as gpd\n",
    "from shapely.geometry import Polygon\n",
    "\n",
    "# Constants\n",
    "HECTARE_TO_SQ_M = 10000  # 1 hectare = 10,000 square meters\n",
    "\n",
    "# Your Polygon\n",
    "polygon = Polygon([(85.22823163068318, 27.730537095684944),\n",
    "                   (85.25192090070271, 27.770947059267456),\n",
    "                   (85.30341931378865, 27.746945956706433),\n",
    "                   (85.27114697492146, 27.71625329811123)])\n"
   ]
  },
  {
   "cell_type": "code",
   "execution_count": 4,
   "metadata": {},
   "outputs": [
    {
     "name": "stderr",
     "output_type": "stream",
     "text": [
      "/users/smalla/dumbers-ku-hackfest-2023/venv/lib64/python3.6/site-packages/osmnx/utils_geo.py:335: ShapelyDeprecationWarning: Iteration over multi-part geometries is deprecated and will be removed in Shapely 2.0. Use the `geoms` property to access the constituent parts of a multi-part geometry.\n",
      "  for polygon in geometry:\n",
      "/users/smalla/dumbers-ku-hackfest-2023/venv/lib64/python3.6/site-packages/osmnx/utils_geo.py:426: ShapelyDeprecationWarning: Iteration over multi-part geometries is deprecated and will be removed in Shapely 2.0. Use the `geoms` property to access the constituent parts of a multi-part geometry.\n",
      "  for poly in multipoly:\n"
     ]
    },
    {
     "name": "stdout",
     "output_type": "stream",
     "text": [
      "Forest Area (sq m): 494945.6500848061\n",
      "Estimated Number of Trees: 24747\n",
      "Estimated Carbon Absorption (metric tons CO2/year): 9.898913001696123\n"
     ]
    }
   ],
   "source": [
    "from math import floor\n",
    "\n",
    "# Function to calculate forest area\n",
    "def calculate_forest_area(polygon):\n",
    "    # You've already done this\n",
    "    tags = {'landuse': 'forest'}\n",
    "    geometries = ox.geometries_from_polygon(polygon, tags)\n",
    "    geometries.crs = 'EPSG:4326'\n",
    "    geometries = geometries.to_crs('EPSG:3857')\n",
    "    forest_area_sqm = geometries.geometry.area.sum()\n",
    "    return forest_area_sqm\n",
    "\n",
    "# Function to estimate the number of trees\n",
    "def estimate_number_of_trees(forest_area_sqm):\n",
    "    avg_tree_density_per_hectare = 500  # hypothetical average tree density\n",
    "    number_of_trees = (forest_area_sqm / HECTARE_TO_SQ_M) * avg_tree_density_per_hectare\n",
    "    return number_of_trees\n",
    "\n",
    "# Function to estimate carbon absorption\n",
    "def estimate_carbon_absorption(forest_area_sqm):\n",
    "    average_carbon_seq_rate = 0.2  # hypothetical value\n",
    "    carbon_absorption = (forest_area_sqm / HECTARE_TO_SQ_M) * average_carbon_seq_rate\n",
    "    return carbon_absorption\n",
    "\n",
    "# Main Code Execution\n",
    "forest_area = calculate_forest_area(polygon)\n",
    "number_of_trees = estimate_number_of_trees(forest_area)\n",
    "carbon_absorption = estimate_carbon_absorption(forest_area)\n",
    "\n",
    "print(f\"Forest Area (sq m): {forest_area}\")\n",
    "print(f\"Estimated Number of Trees: {floor(number_of_trees)}\")\n",
    "print(f\"Estimated Carbon Absorption (metric tons CO2/year): {carbon_absorption}\")"
   ]
  },
  {
   "cell_type": "code",
   "execution_count": null,
   "metadata": {},
   "outputs": [],
   "source": []
  }
 ],
 "metadata": {
  "kernelspec": {
   "display_name": "Python 3",
   "language": "python",
   "name": "python3"
  },
  "language_info": {
   "codemirror_mode": {
    "name": "ipython",
    "version": 3
   },
   "file_extension": ".py",
   "mimetype": "text/x-python",
   "name": "python",
   "nbconvert_exporter": "python",
   "pygments_lexer": "ipython3",
   "version": "3.6.8"
  },
  "orig_nbformat": 4
 },
 "nbformat": 4,
 "nbformat_minor": 2
}
