{
 "cells": [
  {
   "cell_type": "code",
   "execution_count": 1,
   "metadata": {},
   "outputs": [],
   "source": [
    "import pandas as pd"
   ]
  },
  {
   "cell_type": "code",
   "execution_count": 61,
   "metadata": {},
   "outputs": [],
   "source": [
    "land_prices = pd.read_csv(\"land.csv\")"
   ]
  },
  {
   "cell_type": "code",
   "execution_count": 62,
   "metadata": {},
   "outputs": [],
   "source": [
    "import math\n",
    "\n",
    "def haversine(lat1, lon1, lat2, lon2):\n",
    "    \"\"\"\n",
    "    Calculate the great circle distance in kilometers between two points on the earth (specified in decimal degrees)\n",
    "    \"\"\"\n",
    "    # convert decimal degrees to radians\n",
    "    lat1, lon1, lat2, lon2 = map(math.radians, [lat1, lon1, lat2, lon2])\n",
    "    # haversine formula\n",
    "    dlat = lat2 - lat1\n",
    "    dlon = lon2 - lon1\n",
    "    a = math.sin(dlat/2)**2 + math.cos(lat1) * math.cos(lat2) * math.sin(dlon/2)**2\n",
    "    c = 2 * math.asin(math.sqrt(a))\n",
    "    r = 6371  # Radius of Earth in kilometers. Use 3956 for miles\n",
    "    return c * r\n",
    "\n",
    "\n",
    "\n"
   ]
  },
  {
   "cell_type": "code",
   "execution_count": 65,
   "metadata": {},
   "outputs": [],
   "source": [
    "def top_n_nearest_rows(lat, lon, n, dataset):\n",
    "    \"\"\"\n",
    "    Find the top n nearest rows in the dataset to the given lat and lon.\n",
    "    \n",
    "    :param lat: latitude of the point to compare\n",
    "    :param lon: longitude of the point to compare\n",
    "    :param n: number of nearest points to find\n",
    "    :param dataset: dataset containing latitude and longitude\n",
    "    :return: list of top n nearest rows from the dataset\n",
    "    \"\"\"\n",
    "    distances = []\n",
    "\n",
    "    for index, row in dataset.iterrows():  # if dataset is a DataFrame\n",
    "        item_lat, item_lon = float(row[\"latitude\"]), float(row[\"longitude\"])\n",
    "        distance = haversine(lat, lon, item_lat, item_lon)\n",
    "        distances.append((distance, row.to_dict()))  # storing the entire row as a dictionary\n",
    "    \n",
    "    # Sort the distances list and take the top n items\n",
    "    distances.sort()\n",
    "    top_n = distances[:n]\n",
    "    \n",
    "    # Extract only the row from top_n for the final result\n",
    "    result = [row for dist, row in top_n]\n",
    "    \n",
    "    return result\n"
   ]
  },
  {
   "cell_type": "code",
   "execution_count": 67,
   "metadata": {},
   "outputs": [
    {
     "name": "stdout",
     "output_type": "stream",
     "text": [
      "The top 5 nearest rows to (30.0827, 80.2707) are \n",
      " [{'latitude': 30.504723, 'longitude': 78.411979, 'area_(sq.m.)': 282, 'proximity_to_city_center_(km)': 6.800532025898828, 'nearby_facilities': 7, 'land_type': 'Agricultural', 'price_($)': 1618946.8773503143}, {'latitude': 31.7525205, 'longitude': 80.347935, 'area_(sq.m.)': 500, 'proximity_to_city_center_(km)': 28.183034411326894, 'nearby_facilities': 6, 'land_type': 'Industrial', 'price_($)': 1554823.3967305152}, {'latitude': 28.5442185, 'longitude': 79.344321, 'area_(sq.m.)': 77, 'proximity_to_city_center_(km)': 15.769895214814811, 'nearby_facilities': 2, 'land_type': 'Agricultural', 'price_($)': 159254.42186028403}, {'latitude': 31.8691865, 'longitude': 79.034466, 'area_(sq.m.)': 502, 'proximity_to_city_center_(km)': 24.87206290641944, 'nearby_facilities': 3, 'land_type': 'Agricultural', 'price_($)': 1006065.7529283062}, {'latitude': 32.5127515, 'longitude': 80.421434, 'area_(sq.m.)': 245, 'proximity_to_city_center_(km)': 32.00283061775794, 'nearby_facilities': 6, 'land_type': 'Industrial', 'price_($)': 741111.4562497812}]\n"
     ]
    }
   ],
   "source": [
    "lat, lon = 30.0827, 80.2707\n",
    "\n",
    "\n",
    "# Assuming land_prices is a DataFrame\n",
    "top_n = top_n_nearest_rows(lat, lon, 5, land_prices)  # Find top 5 nearest rows\n",
    "print(f\"The top 5 nearest rows to ({lat}, {lon}) are \\n {top_n}\")\n",
    "\n",
    "\n"
   ]
  },
  {
   "cell_type": "code",
   "execution_count": 75,
   "metadata": {},
   "outputs": [],
   "source": [
    "from math import floor\n",
    "\n",
    "def calculate_averages(data):\n",
    "    avg_price = 0\n",
    "    avg_proximity_to_city_center = 0\n",
    "    avg_nearby_facilities = 0\n",
    "    avg_area = 0\n",
    "    avg_price_per_sq_area = 0\n",
    "    count = len(data)\n",
    "\n",
    "    for item in data:\n",
    "        avg_price += item[\"price_($)\"]\n",
    "        avg_proximity_to_city_center += item[\"proximity_to_city_center_(km)\"]\n",
    "        avg_nearby_facilities += item[\"nearby_facilities\"]\n",
    "        avg_area += item[\"area_(sq.m.)\"]\n",
    "        avg_price_per_sq_area += item[\"price_($)\"] / item[\"area_(sq.m.)\"]\n",
    "\n",
    "    # Calculating the averages\n",
    "    avg_price /= count\n",
    "    avg_proximity_to_city_center /= count\n",
    "    avg_nearby_facilities /= count\n",
    "    avg_area /= count\n",
    "    avg_price_per_sq_area /= count\n",
    "\n",
    "    # Constructing the result dictionary\n",
    "    result = {\n",
    "        \"avg_price\": avg_price,\n",
    "        \"avg_proximity_to_city_center\": avg_proximity_to_city_center,\n",
    "        \"avg_nearby_facilities\": floor(avg_nearby_facilities),\n",
    "        \"avg_area\": avg_area,\n",
    "        \"avg_price_per_sq_area\": avg_price_per_sq_area\n",
    "    }\n",
    "\n",
    "    return result\n"
   ]
  },
  {
   "cell_type": "code",
   "execution_count": 76,
   "metadata": {},
   "outputs": [
    {
     "data": {
      "text/plain": [
       "{'avg_price': 1016040.3810238403,\n",
       " 'avg_proximity_to_city_center': 21.525671035243583,\n",
       " 'avg_nearby_facilities': 4,\n",
       " 'avg_area': 321.2,\n",
       " 'avg_price_per_sq_area': 3189.5784354086472}"
      ]
     },
     "execution_count": 76,
     "metadata": {},
     "output_type": "execute_result"
    }
   ],
   "source": [
    "calculate_averages(top_n)"
   ]
  },
  {
   "cell_type": "code",
   "execution_count": null,
   "metadata": {},
   "outputs": [],
   "source": []
  }
 ],
 "metadata": {
  "kernelspec": {
   "display_name": "base",
   "language": "python",
   "name": "python3"
  },
  "language_info": {
   "codemirror_mode": {
    "name": "ipython",
    "version": 3
   },
   "file_extension": ".py",
   "mimetype": "text/x-python",
   "name": "python",
   "nbconvert_exporter": "python",
   "pygments_lexer": "ipython3",
   "version": "3.9.12"
  },
  "orig_nbformat": 4
 },
 "nbformat": 4,
 "nbformat_minor": 2
}
