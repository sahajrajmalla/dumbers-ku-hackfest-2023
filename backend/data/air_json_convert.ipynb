{
 "cells": [
  {
   "cell_type": "code",
   "execution_count": 1,
   "metadata": {},
   "outputs": [],
   "source": [
    "import pandas as pd\n",
    "\n",
    "# Read CSV file into a DataFrame\n",
    "df = pd.read_csv('/users/smalla/dumbers-ku-hackfest-2023/backend/data/air_pollution_data.csv')\n",
    "\n",
    "\n"
   ]
  },
  {
   "cell_type": "code",
   "execution_count": 3,
   "metadata": {},
   "outputs": [],
   "source": [
    "df.columns = [i.lower().replace(\" \", \"_\") for i in df.columns]"
   ]
  },
  {
   "cell_type": "code",
   "execution_count": 4,
   "metadata": {},
   "outputs": [
    {
     "data": {
      "text/html": [
       "<div>\n",
       "<style scoped>\n",
       "    .dataframe tbody tr th:only-of-type {\n",
       "        vertical-align: middle;\n",
       "    }\n",
       "\n",
       "    .dataframe tbody tr th {\n",
       "        vertical-align: top;\n",
       "    }\n",
       "\n",
       "    .dataframe thead th {\n",
       "        text-align: right;\n",
       "    }\n",
       "</style>\n",
       "<table border=\"1\" class=\"dataframe\">\n",
       "  <thead>\n",
       "    <tr style=\"text-align: right;\">\n",
       "      <th></th>\n",
       "      <th>development_category</th>\n",
       "      <th>pm2.5_(μg/m³)</th>\n",
       "      <th>pm10_(μg/m³)</th>\n",
       "      <th>no2_(ppb)</th>\n",
       "    </tr>\n",
       "  </thead>\n",
       "  <tbody>\n",
       "    <tr>\n",
       "      <th>0</th>\n",
       "      <td>airport</td>\n",
       "      <td>33.557961</td>\n",
       "      <td>65.816609</td>\n",
       "      <td>41.878054</td>\n",
       "    </tr>\n",
       "    <tr>\n",
       "      <th>1</th>\n",
       "      <td>bridge</td>\n",
       "      <td>30.534396</td>\n",
       "      <td>49.751523</td>\n",
       "      <td>19.244172</td>\n",
       "    </tr>\n",
       "    <tr>\n",
       "      <th>2</th>\n",
       "      <td>factory</td>\n",
       "      <td>56.411089</td>\n",
       "      <td>77.542221</td>\n",
       "      <td>49.938880</td>\n",
       "    </tr>\n",
       "    <tr>\n",
       "      <th>3</th>\n",
       "      <td>housing</td>\n",
       "      <td>30.623551</td>\n",
       "      <td>50.144464</td>\n",
       "      <td>20.524096</td>\n",
       "    </tr>\n",
       "    <tr>\n",
       "      <th>4</th>\n",
       "      <td>residential housing</td>\n",
       "      <td>31.145233</td>\n",
       "      <td>49.450705</td>\n",
       "      <td>20.940219</td>\n",
       "    </tr>\n",
       "    <tr>\n",
       "      <th>5</th>\n",
       "      <td>road construction</td>\n",
       "      <td>39.870601</td>\n",
       "      <td>66.829347</td>\n",
       "      <td>25.206773</td>\n",
       "    </tr>\n",
       "  </tbody>\n",
       "</table>\n",
       "</div>"
      ],
      "text/plain": [
       "  development_category  pm2.5_(μg/m³)  pm10_(μg/m³)  no2_(ppb)\n",
       "0              airport      33.557961     65.816609  41.878054\n",
       "1               bridge      30.534396     49.751523  19.244172\n",
       "2              factory      56.411089     77.542221  49.938880\n",
       "3              housing      30.623551     50.144464  20.524096\n",
       "4  residential housing      31.145233     49.450705  20.940219\n",
       "5    road construction      39.870601     66.829347  25.206773"
      ]
     },
     "execution_count": 4,
     "metadata": {},
     "output_type": "execute_result"
    }
   ],
   "source": [
    "df"
   ]
  },
  {
   "cell_type": "code",
   "execution_count": 5,
   "metadata": {},
   "outputs": [],
   "source": [
    "# Save the DataFrame to a JSON file\n",
    "df.to_json('air_pollution.json', orient='records')"
   ]
  },
  {
   "cell_type": "code",
   "execution_count": null,
   "metadata": {},
   "outputs": [],
   "source": []
  }
 ],
 "metadata": {
  "kernelspec": {
   "display_name": "venv",
   "language": "python",
   "name": "python3"
  },
  "language_info": {
   "codemirror_mode": {
    "name": "ipython",
    "version": 3
   },
   "file_extension": ".py",
   "mimetype": "text/x-python",
   "name": "python",
   "nbconvert_exporter": "python",
   "pygments_lexer": "ipython3",
   "version": "3.6.8"
  },
  "orig_nbformat": 4
 },
 "nbformat": 4,
 "nbformat_minor": 2
}
