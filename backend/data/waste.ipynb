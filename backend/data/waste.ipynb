{
 "cells": [
  {
   "cell_type": "code",
   "execution_count": 1,
   "metadata": {},
   "outputs": [],
   "source": [
    "import pandas as pd"
   ]
  },
  {
   "cell_type": "code",
   "execution_count": 3,
   "metadata": {},
   "outputs": [],
   "source": [
    "dataset = pd.read_csv(\"waste_generation_data.csv\")"
   ]
  },
  {
   "cell_type": "code",
   "execution_count": 8,
   "metadata": {},
   "outputs": [],
   "source": [
    "dataset.columns = [i.replace(\" \", \"_\").strip().lower() for i in dataset.columns]"
   ]
  },
  {
   "cell_type": "code",
   "execution_count": 10,
   "metadata": {},
   "outputs": [],
   "source": [
    "dataset.to_csv(\"waste_generation.csv\")"
   ]
  },
  {
   "cell_type": "code",
   "execution_count": 11,
   "metadata": {},
   "outputs": [],
   "source": [
    "import math\n",
    "\n",
    "def haversine(lat1, lon1, lat2, lon2):\n",
    "    \"\"\"\n",
    "    Calculate the great circle distance in kilometers between two points on the earth (specified in decimal degrees)\n",
    "    \"\"\"\n",
    "    # convert decimal degrees to radians\n",
    "    lat1, lon1, lat2, lon2 = map(math.radians, [lat1, lon1, lat2, lon2])\n",
    "    # haversine formula\n",
    "    dlat = lat2 - lat1\n",
    "    dlon = lon2 - lon1\n",
    "    a = math.sin(dlat/2)**2 + math.cos(lat1) * math.cos(lat2) * math.sin(dlon/2)**2\n",
    "    c = 2 * math.asin(math.sqrt(a))\n",
    "    r = 6371  # Radius of Earth in kilometers. Use 3956 for miles\n",
    "    return c * r\n",
    "\n",
    "\n",
    "\n",
    "def top_n_nearest_rows(lat, lon, n, dataset):\n",
    "    \"\"\"\n",
    "    Find the top n nearest rows in the dataset to the given lat and lon.\n",
    "    \n",
    "    :param lat: latitude of the point to compare\n",
    "    :param lon: longitude of the point to compare\n",
    "    :param n: number of nearest points to find\n",
    "    :param dataset: dataset containing latitude and longitude\n",
    "    :return: list of top n nearest rows from the dataset\n",
    "    \"\"\"\n",
    "    distances = []\n",
    "\n",
    "    for index, row in dataset.iterrows():  # if dataset is a DataFrame\n",
    "        item_lat, item_lon = float(row[\"latitude\"]), float(row[\"longitude\"])\n",
    "        distance = haversine(lat, lon, item_lat, item_lon)\n",
    "        distances.append((distance, row.to_dict()))  # storing the entire row as a dictionary\n",
    "    \n",
    "    # Sort the distances list and take the top n items\n",
    "    distances.sort()\n",
    "    top_n = distances[:n]\n",
    "    \n",
    "    # Extract only the row from top_n for the final result\n",
    "    result = [row for dist, row in top_n]\n",
    "    \n",
    "    return result\n"
   ]
  },
  {
   "cell_type": "code",
   "execution_count": 12,
   "metadata": {},
   "outputs": [
    {
     "name": "stdout",
     "output_type": "stream",
     "text": [
      "The top 5 nearest rows to (30.0827, 80.2707) are \n",
      " [{'entry_id': 128, 'waste_amount_(ton)': 194.61, 'latitude': 27.081429, 'longitude': 78.537563, 'date_of_record': '2023-05-30', 'waste_type': 'Hazardous', 'source': 'Residential', 'disposal_method': 'Landfill', 'comments': nan}, {'entry_id': 519, 'waste_amount_(ton)': 25.55, 'latitude': 28.35782, 'longitude': 86.826768, 'date_of_record': '2023-09-17', 'waste_type': 'Hazardous', 'source': 'Commercial', 'disposal_method': 'Composted', 'comments': nan}, {'entry_id': 602, 'waste_amount_(ton)': 2.69, 'latitude': 28.6476315, 'longitude': 72.495275, 'date_of_record': '2023-04-05', 'waste_type': 'Hazardous', 'source': 'Agricultural', 'disposal_method': 'Landfill', 'comments': nan}, {'entry_id': 196, 'waste_amount_(ton)': 205.33, 'latitude': 40.216736, 'longitude': 80.801225, 'date_of_record': '2023-08-19', 'waste_type': 'Electronic', 'source': 'Agricultural', 'disposal_method': 'Landfill', 'comments': nan}, {'entry_id': 662, 'waste_amount_(ton)': 384.02, 'latitude': 39.2470165, 'longitude': 87.708982, 'date_of_record': '2023-04-17', 'waste_type': 'Plastic', 'source': 'Commercial', 'disposal_method': 'Composted', 'comments': nan}]\n"
     ]
    }
   ],
   "source": [
    "lat, lon = 30.0827, 80.2707\n",
    "\n",
    "\n",
    "# Assuming land_prices is a DataFrame\n",
    "top_n = top_n_nearest_rows(lat, lon, 5, dataset)  # Find top 5 nearest rows\n",
    "print(f\"The top 5 nearest rows to ({lat}, {lon}) are \\n {top_n}\")\n",
    "\n",
    "\n"
   ]
  },
  {
   "cell_type": "code",
   "execution_count": 14,
   "metadata": {},
   "outputs": [],
   "source": [
    "avg_waste_amount_ton = sum([row[\"waste_amount_(ton)\"] for row in top_n]) / len(top_n)"
   ]
  },
  {
   "cell_type": "code",
   "execution_count": 15,
   "metadata": {},
   "outputs": [
    {
     "data": {
      "text/plain": [
       "162.44"
      ]
     },
     "execution_count": 15,
     "metadata": {},
     "output_type": "execute_result"
    }
   ],
   "source": [
    "avg_waste_amount_ton"
   ]
  },
  {
   "cell_type": "code",
   "execution_count": 16,
   "metadata": {},
   "outputs": [],
   "source": [
    "def get_avg_waste():\n",
    "    n = 10\n",
    "    dataset = pd.read_csv(\"waste_generation.csv\")\n",
    "    top_n = top_n_nearest_rows(lat, lon, n, dataset)\n",
    "    avg_waste_amount_ton = sum([row[\"waste_amount_(ton)\"] for row in top_n]) / len(top_n)\n",
    "    return avg_waste_amount_ton"
   ]
  },
  {
   "cell_type": "code",
   "execution_count": 17,
   "metadata": {},
   "outputs": [],
   "source": [
    "value = get_avg_waste()"
   ]
  },
  {
   "cell_type": "code",
   "execution_count": 18,
   "metadata": {},
   "outputs": [
    {
     "data": {
      "text/plain": [
       "170.061"
      ]
     },
     "execution_count": 18,
     "metadata": {},
     "output_type": "execute_result"
    }
   ],
   "source": [
    "value"
   ]
  },
  {
   "cell_type": "code",
   "execution_count": null,
   "metadata": {},
   "outputs": [],
   "source": []
  }
 ],
 "metadata": {
  "kernelspec": {
   "display_name": "base",
   "language": "python",
   "name": "python3"
  },
  "language_info": {
   "codemirror_mode": {
    "name": "ipython",
    "version": 3
   },
   "file_extension": ".py",
   "mimetype": "text/x-python",
   "name": "python",
   "nbconvert_exporter": "python",
   "pygments_lexer": "ipython3",
   "version": "3.9.12"
  },
  "orig_nbformat": 4
 },
 "nbformat": 4,
 "nbformat_minor": 2
}
