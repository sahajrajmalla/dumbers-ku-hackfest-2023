{
 "cells": [
  {
   "cell_type": "code",
   "execution_count": 1,
   "metadata": {},
   "outputs": [],
   "source": [
    "import pandas as pd"
   ]
  },
  {
   "cell_type": "code",
   "execution_count": 2,
   "metadata": {},
   "outputs": [],
   "source": [
    "noise = pd.read_csv(\"noise.csv\")"
   ]
  },
  {
   "cell_type": "code",
   "execution_count": 5,
   "metadata": {},
   "outputs": [],
   "source": [
    "noise.columns = [i.replace(\" \", \"_\").strip().lower() for i in noise.columns]"
   ]
  },
  {
   "cell_type": "code",
   "execution_count": 10,
   "metadata": {},
   "outputs": [],
   "source": [
    "noise.to_csv(\"noise.csv\", index=False)"
   ]
  },
  {
   "cell_type": "code",
   "execution_count": 7,
   "metadata": {},
   "outputs": [],
   "source": [
    "import math\n",
    "\n",
    "def haversine(lat1, lon1, lat2, lon2):\n",
    "    \"\"\"\n",
    "    Calculate the great circle distance in kilometers between two points on the earth (specified in decimal degrees)\n",
    "    \"\"\"\n",
    "    # convert decimal degrees to radians\n",
    "    lat1, lon1, lat2, lon2 = map(math.radians, [lat1, lon1, lat2, lon2])\n",
    "    # haversine formula\n",
    "    dlat = lat2 - lat1\n",
    "    dlon = lon2 - lon1\n",
    "    a = math.sin(dlat/2)**2 + math.cos(lat1) * math.cos(lat2) * math.sin(dlon/2)**2\n",
    "    c = 2 * math.asin(math.sqrt(a))\n",
    "    r = 6371  # Radius of Earth in kilometers. Use 3956 for miles\n",
    "    return c * r\n",
    "\n",
    "\n",
    "\n",
    "def top_n_nearest_rows(lat, lon, n, dataset):\n",
    "    \"\"\"\n",
    "    Find the top n nearest rows in the dataset to the given lat and lon.\n",
    "    \n",
    "    :param lat: latitude of the point to compare\n",
    "    :param lon: longitude of the point to compare\n",
    "    :param n: number of nearest points to find\n",
    "    :param dataset: dataset containing latitude and longitude\n",
    "    :return: list of top n nearest rows from the dataset\n",
    "    \"\"\"\n",
    "    distances = []\n",
    "\n",
    "    for index, row in dataset.iterrows():  # if dataset is a DataFrame\n",
    "        item_lat, item_lon = float(row[\"latitude\"]), float(row[\"longitude\"])\n",
    "        distance = haversine(lat, lon, item_lat, item_lon)\n",
    "        distances.append((distance, row.to_dict()))  # storing the entire row as a dictionary\n",
    "    \n",
    "    # Sort the distances list and take the top n items\n",
    "    distances.sort()\n",
    "    top_n = distances[:n]\n",
    "    \n",
    "    # Extract only the row from top_n for the final result\n",
    "    result = [row for dist, row in top_n]\n",
    "    \n",
    "    return result\n"
   ]
  },
  {
   "cell_type": "code",
   "execution_count": 9,
   "metadata": {},
   "outputs": [
    {
     "name": "stdout",
     "output_type": "stream",
     "text": [
      "The top 5 nearest rows to (30.0827, 80.2707) are \n",
      " [{'entry_id': 580, 'latitude': 32.986687, 'longitude': 76.418774, 'date_and_time': '2021-06-10 03:54:35', 'noise_level_(db)': 126.7, 'source_of_noise': 'Industrial', 'duration_(secs)': 3561, 'comments': nan}, {'entry_id': 424, 'latitude': 30.209665, 'longitude': 87.049614, 'date_and_time': '2020-11-05 13:10:45', 'noise_level_(db)': 78.7, 'source_of_noise': 'Machinery', 'duration_(secs)': 1029, 'comments': nan}, {'entry_id': 88, 'latitude': 26.767558, 'longitude': 85.954729, 'date_and_time': '2023-06-05 15:15:19', 'noise_level_(db)': 70.9, 'source_of_noise': 'Traffic', 'duration_(secs)': 357, 'comments': nan}, {'entry_id': 57, 'latitude': 26.316609, 'longitude': 86.143679, 'date_and_time': '2020-05-19 11:16:01', 'noise_level_(db)': 71.2, 'source_of_noise': 'Machinery', 'duration_(secs)': 3553, 'comments': nan}, {'entry_id': 476, 'latitude': 34.754682, 'longitude': 86.109151, 'date_and_time': '2023-02-28 16:15:49', 'noise_level_(db)': 45.5, 'source_of_noise': 'Industrial', 'duration_(secs)': 2986, 'comments': nan}, {'entry_id': 741, 'latitude': 34.2499915, 'longitude': 72.422395, 'date_and_time': '2021-10-13 16:42:55', 'noise_level_(db)': 88.1, 'source_of_noise': 'Industrial', 'duration_(secs)': 780, 'comments': nan}, {'entry_id': 483, 'latitude': 27.073413, 'longitude': 69.294278, 'date_and_time': '2021-01-28 06:49:24', 'noise_level_(db)': 102.7, 'source_of_noise': 'Air Traffic', 'duration_(secs)': 1113, 'comments': nan}, {'entry_id': 814, 'latitude': 40.2804745, 'longitude': 75.695568, 'date_and_time': '2022-02-01 06:40:04', 'noise_level_(db)': 65.5, 'source_of_noise': 'Natural', 'duration_(secs)': 2625, 'comments': nan}, {'entry_id': 689, 'latitude': 40.7826285, 'longitude': 82.758213, 'date_and_time': '2021-01-07 03:08:43', 'noise_level_(db)': 109.1, 'source_of_noise': 'Air Traffic', 'duration_(secs)': 826, 'comments': nan}, {'entry_id': 781, 'latitude': 35.069773, 'longitude': 92.978916, 'date_and_time': '2020-07-24 10:15:50', 'noise_level_(db)': 45.6, 'source_of_noise': 'Traffic', 'duration_(secs)': 3426, 'comments': nan}]\n"
     ]
    }
   ],
   "source": [
    "lat, lon = 30.0827, 80.2707\n",
    "\n",
    "\n",
    "# Assuming land_prices is a DataFrame\n",
    "top_n = top_n_nearest_rows(lat, lon, 10, noise)  # Find top 5 nearest rows\n",
    "print(f\"The top 5 nearest rows to ({lat}, {lon}) are \\n {top_n}\")\n",
    "\n",
    "\n"
   ]
  },
  {
   "cell_type": "code",
   "execution_count": null,
   "metadata": {},
   "outputs": [],
   "source": []
  }
 ],
 "metadata": {
  "kernelspec": {
   "display_name": "base",
   "language": "python",
   "name": "python3"
  },
  "language_info": {
   "codemirror_mode": {
    "name": "ipython",
    "version": 3
   },
   "file_extension": ".py",
   "mimetype": "text/x-python",
   "name": "python",
   "nbconvert_exporter": "python",
   "pygments_lexer": "ipython3",
   "version": "3.9.12"
  },
  "orig_nbformat": 4
 },
 "nbformat": 4,
 "nbformat_minor": 2
}
